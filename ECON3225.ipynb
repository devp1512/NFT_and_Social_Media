{
 "cells": [
  {
   "cell_type": "code",
   "execution_count": 8,
   "id": "e16766f7",
   "metadata": {},
   "outputs": [
    {
     "name": "stdout",
     "output_type": "stream",
     "text": [
      "['Bored Ape Yacht Club\\nEthereum', '5.87', '2037', '2', '18258', '8720.00', '655.00', '1918.00', '301.00', 'The Sandbox\\nEthereum', '5.01', '1798', '12', '38811', '839.33', '2223.33', '311.50', '14.17', 'Starcatchers\\nEthereum', '4.40', '3449', '3', '9560', '1564.50', '557.50', '1711.50', '0.50', 'Decentraland\\nEthereum', '4.28', '1641', '0', '55073', '', '', '', '', 'Llamaverse Genesis\\nEthereum', '2.45', '1018', '5', '9047', '1296.00', '566.00', '1135.00', '4.67', 'Invisible Friends\\nEthereum', '2.36', '1537', '2', '6984', '3237.00', '136.00', '479.00', '17.00', 'VeeFriends\\nEthereum', '2.19', '1379', '26', '11194', '132.89', '27.78', '14.33', '2.56', 'Space Runners\\nSolana', '2.15', '1338', '4', '10265', '689.00', '23.00', '636.00', '9.00', 'World of Women\\nEthereum', '2.12', '998', '10', '16171', '523.75', '69.50', '123.50', '21.00', 'CLONE X - X TAKASHI MURAKAMI\\nEthereum', '1.80', '825', '7', '6877', '783.33', '409.00', '478.33', '15.00', 'Tasty Bones XYZ\\nEthereum', '1.72', '1350', '11', '4690', '361.80', '51.80', '226.00', '2.80', 'Tales Of Tsuki Genesis\\nEthereum', '1.58', '428', '2', '4787', '837.00', '687.00', '753.00', '7.50', 'NFT Worlds\\nEthereum', '1.51', '666', '2', '4858', '1493.00', '107.00', '331.00', '58.00', 'SoulZ Monogatari\\nEthereum', '1.50', '936', '5', '4560', '390.40', '289.60', '312.40', '7.40', 'KlayDice\\nKlaytn', '1.22', '1526', '0', '199', '', '', '', '', 'Azuki\\nEthereum', '1.12', '941', '0', '5717', '', '', '', '', 'Doodles\\nEthereum', '1.09', '653', '10', '5664', '', '', '', '', 'DentedFeelsNFT\\nEthereum', '0.98', '169', '23', '3627', '266.00', '25.50', '89.00', '7.00', 'tubby cats by tubby collective\\nEthereum', '0.93', '475', '18', '1728', '175.20', '10.60', '23.00', '1.00', 'WonderPals\\nEthereum', '0.91', '357', '3', '2828', '1128.50', '75.00', '195.00', '6.50', 'The Martians: Metaverse\\nPolygon', '0.91', '962', '0', '1545', '', '', '', '', 'Karafuru\\nEthereum', '0.91', '639', '1', '1681', '653.00', '37.00', '176.00', '4.00', 'DEGEN TOONZ COLLECTION\\nEthereum', '0.88', '120', '3', '4364', '551.00', '82.00', '230.00', '34.00', 'Dippies\\nEthereum', '0.87', '321', '3', '3470', '464.00', '289.50', '96.50', '0.50', 'Levana Dragons\\nTerra', '0.82', '200', '29', '255', '30.40', '3.60', '7.60', '1.00', 'PhantaBear\\nEthereum', '0.81', '322', '3', '857', '314.00', '260.00', '281.00', '6.00', 'Sunmiya Club Official\\nKlaytn', '0.79', '117', '30', '228', '35.83', '4.17', '23.33', '0.17', '0N1 Force\\nEthereum', '0.78', '219', '20', '937', '127.50', '88.50', '23.00', '1.50', '3Landers\\nEthereum', '0.78', '440', '6', '2075', '288.67', '23.67', '69.00', '3.33', 'alien frens\\nEthereum', '0.76', '297', '3', '3411', '536.33', '35.67', '100.00', '4.33', 'HYPEBEARSCLUB.OFFICIAL\\nEthereum', '0.74', '304', '2', '1794', '560.00', '72.00', '197.00', '9.00', 'Kaiju Kingz\\nEthereum', '0.69', '568', '1', '1191', '201.00', '7.00', '42.00', '1.00', 'Clementines Nightmare\\nEthereum', '0.67', '378', '3', '1018', '264.67', '35.00', '108.33', '9.33', 'Degenerate Ape Academy\\nSolana', '0.56', '127', '9', '1488', '178.25', '13.50', '30.25', '7.25', 'Meta Toy DragonZ\\nKlaytn', '0.55', '101', '4', '686', '289.00', '96.00', '244.00', '1.00', 'Worldwide Webb Land\\nEthereum', '0.55', '220', '6', '1142', '232.00', '70.00', '9.00', '1.00', 'Pesky Penguins\\nSolana', '0.54', '52', '16', '796', '61.25', '7.75', '8.75', '0.25', 'Metroverse\\nEthereum', '0.53', '56', '1', '504', '531.00', '66.00', '238.00', '18.00', 'Decentral Games ICE Poker\\nPolygon', '0.53', '49', '10', '2601', '17.00', '4.50', '5.00', '2.00', 'Bunny Buddies\\nEthereum', '0.52', '81', '6', '1235', '191.75', '36.25', '136.75', '5.50', 'CryptoSkulls\\nEthereum', '0.52', '62', '4', '875', '286.00', '50.00', '130.00', '18.00', \"Zipcy's SuperNormal\\nEthereum\", '0.52', '182', '5', '1236', '221.00', '11.00', '75.00', '0.00', 'CatBlox Genesis Collection\\nEthereum', '0.52', '67', '6', '1300', '301.80', '26.20', '123.00', '5.40', 'Cool Cats\\nEthereum', '0.51', '200', '4', '1536', '170.00', '15.00', '19.00', '4.00', 'Famous Fox Federation\\nSolana', '0.49', '105', '11', '936', '36.17', '4.00', '6.33', '0.33', 'MetaKongz\\nKlaytn', '0.49', '83', '14', '300', '20.33', '5.67', '7.33', '0.00', 'Galatic Angels\\nTerra', '0.46', '32', '15', '133', '17.50', '1.00', '10.00', '0.00', 'Wagami Monkeez\\nTerra', '0.44', '92', '1', '337', '168.00', '163.00', '117.00', '4.00', 'G.rilla OFFICIAL\\nKlaytn', '0.43', '41', '13', '72', '9.00', '2.67', '1.67', '0.00', 'Creepz Genesis\\nEthereum', '0.42', '41', '3', '1564', '286.00', '38.00', '52.50', '0.50', 'SkuxxVerse Pass\\nEthereum', '0.42', '49', '6', '342', '191.00', '14.00', '67.00', '10.00', 'CyberKongz\\nEthereum', '0.41', '230', '1', '1089', '', '', '', '', 'FLUF World\\nEthereum', '0.41', '75', '9', '443', '14.00', '1.00', '2.00', '1.00', 'Creature World\\nEthereum', '0.40', '64', '8', '419', '98.14', '3.29', '14.29', '0.71', 'DeadFellaz\\nEthereum', '0.40', '200', '0', '1564', '', '', '', '', 'The Doge Pound\\nEthereum', '0.39', '133', '4', '433', '114.00', '19.33', '25.33', '0.33', 'Pixelmon - Generation 1\\nEthereum', '0.38', '203', '0', '1276', '', '', '', '', 'Infinite Realm Official\\nEthereum', '0.38', '-9', '12', '90', '20.00', '3.00', '3.43', '0.00', 'Syltare\\nKlaytn', '0.37', '80', '8', '63', '4.50', '1.00', '0.00', '0.00', 'Parallel Alpha\\nEthereum', '0.36', '133', '2', '251', '178.00', '18.00', '12.50', '3.50', 'HAPE PRIME\\nEthereum', '0.36', '-94', '2', '987', '396.00', '32.00', '114.00', '11.00', 'Derby Stars\\nTerra', '0.36', '154', '2', '849', '', '', '', '', 'Chumbi Valley Official\\nPolygon', '0.35', '182', '0', '934', '', '', '', '', 'Cryptopunk\\nEthereum', '0.34', '186', '0', '630', '', '', '', '', 'Crypto Raiders Characters\\nPolygon', '0.34', '31', '6', '238', '94.50', '11.50', '16.50', '1.50', 'The Doggies (Snoop Dogg)\\nEthereum', '0.33', '208', '0', '222', '', '', '', '', \"Coolman's Universe\\nEthereum\", '0.33', '57', '3', '631', '129.00', '7.00', '23.00', '0.00', 'Luna Bulls\\nTerra', '0.31', '77', '2', '245', '148.00', '11.00', '28.00', '0.00', 'Galactic Punks\\nTerra', '0.30', '21', '4', '378', '74.50', '4.50', '7.00', '0.50', 'Thugbirdz\\nSolana', '0.30', '44', '2', '993', '16.50', '1.00', '1.00', '0.00', 'ZED RUN Legacy\\nPolygon', '0.30', '39', '3', '706', '13.00', '1.00', '5.00', '0.00', 'Portals\\nSolana', '0.30', '78', '1', '1048', '', '', '', '', 'CrypToadz by GREMPLIN\\nEthereum', '0.30', '69', '3', '517', '', '', '', '', 'Weather Report Intl.\\nEthereum', '0.30', '-264', '13', '701', '119.00', '29.50', '18.50', '1.50', 'Fancy Birds\\nPolygon', '0.28', '48', '3', '221', '35.00', '1.50', '11.00', '1.00', 'PUNKS Comic\\nEthereum', '0.28', '107', '0', '493', '', '', '', '', 'Prime Ape Planet PAP\\nEthereum', '0.28', '-66', '2', '578', '202.00', '47.50', '50.00', '3.50', 'Genesis Bloodshed Bears\\nEthereum', '0.28', '7', '2', '206', '87.00', '19.00', '52.00', '1.00', 'Shadowy Super Coder DAO\\nSolana', '0.28', '82', '2', '159', '41.00', '7.00', '4.00', '0.00', 'Dooggies\\nEthereum', '0.27', '-13', '2', '460', '137.00', '8.00', '35.00', '2.00', 'Crypto Unicorns Market\\nPolygon', '0.27', '-3', '4', '199', '35.00', '1.67', '8.00', '1.33', 'Acrocalypse\\nEthereum', '0.25', '70', '0', '516', '', '', '', '', 'Aurory\\nSolana', '0.25', '64', '0', '585', '', '', '', '', 'TerraWhales\\nTerra', '0.24', '', '3', '26', '41.00', '0.00', '11.00', '0.00', 'Edenhorde\\nEthereum', '0.24', '-28', '2', '161', '76.00', '51.00', '6.00', '2.00', 'BYOLand\\nEthereum', '0.23', '7', '2', '255', '', '', '', '', 'Chicken Derby\\nPolygon', '0.23', '27', '1', '255', '32.00', '3.00', '6.00', '0.00', 'Kpopctzen\\nKlaytn', '0.23', '69', '0', '47', '', '', '', '', 'Meta Adventure\\nKlaytn', '0.23', '39', '1', '47', '31.00', '0.00', '9.00', '0.00', 'Hashmasks\\nEthereum', '0.23', '-1', '3', '37', '', '', '', '', 'LOSTPOETS\\nEthereum', '0.22', '9', '1', '38', '60.00', '8.00', '3.00', '1.00', 'Meerkat Millionaires Country Club\\nSolana', '0.21', '14', '0', '356', '', '', '', '', 'CryptoKitties\\nEthereum', '0.20', '19', '0', '115', '', '', '', '', 'HOWLERZ\\nEthereum', '0.20', '-9', '1', '151', '', '', '', '', 'Galactic Gecko Space Garage\\nSolana', '0.20', '10', '0', '332', '', '', '', '', 'MekaVerse\\nEthereum', '0.19', '-1', '0', '244', '', '', '', '', 'Pudgy Penguins\\nEthereum', '0.19', '9', '0', '116', '', '', '', '', 'Styllar\\nTerra', '0.19', '-12', '1', '32', '27.00', '4.00', '0.00', '0.00', 'Space Game - Marines & Aliens\\nPolygon', '0.19', '6', '0', '57', '', '', '', '', 'Toxic Ape Official\\nKlaytn', '0.19', '9', '0', '80', '', '', '', '']\n"
     ]
    }
   ],
   "source": [
    "from selenium import webdriver\n",
    "from selenium.webdriver.chrome.options import Options\n",
    "from selenium.webdriver.common.by import By\n",
    "import pandas as pd\n",
    "\n",
    "options = Options()\n",
    "options.headless = True\n",
    "options.add_argument(\"--window-size=1920,1200\")\n",
    "\n",
    "driver = webdriver.Chrome(options=options)\n",
    "driver.get(\"https://www.nftsocialranking.com/\")\n",
    "index = 1\n",
    "dataset = []\n",
    "while True:\n",
    "    try:\n",
    "        project_heading = f'/html/body/div[1]/div[2]/div[4]/div/div/div/div/div/div[2]/table/tbody/tr[{index+1}]/td[2]'\n",
    "        meta_score_heading = f'/html/body/div[1]/div[2]/div[4]/div/div/div/div/div/div[2]/table/tbody/tr[{index+1}]/td[3]'\n",
    "        follower_change_heading = f'/html/body/div[1]/div[2]/div[4]/div/div/div/div/div/div[2]/table/tbody/tr[{index+1}]/td[4]'\n",
    "        no_of_activities_heading = f'/html/body/div[1]/div[2]/div[4]/div/div/div/div/div/div[2]/table/tbody/tr[{index+1}]/td[5]'\n",
    "        no_of_mentions_heading = f'/html/body/div[1]/div[2]/div[4]/div/div/div/div/div/div[2]/table/tbody/tr[{index+1}]/td[6]'\n",
    "        avg_like_heading = f'/html/body/div[1]/div[2]/div[4]/div/div/div/div/div/div[2]/table/tbody/tr[{index+1}]/td[7]'\n",
    "        avg_reply_heading = f'/html/body/div[1]/div[2]/div[4]/div/div/div/div/div/div[2]/table/tbody/tr[{index+1}]/td[8]'\n",
    "        avg_retweet_heading = f'/html/body/div[1]/div[2]/div[4]/div/div/div/div/div/div[2]/table/tbody/tr[{index+1}]/td[9]'\n",
    "        avg_quote_heading = f'/html/body/div[1]/div[2]/div[4]/div/div/div/div/div/div[2]/table/tbody/tr[{index+1}]/td[10]'\n",
    "        project_raw = driver.find_element(By.XPATH, project_heading)\n",
    "        meta_score_raw = driver.find_element(By.XPATH, meta_score_heading)\n",
    "        follower_change_raw = driver.find_element(By.XPATH, follower_change_heading)\n",
    "        no_of_activities_raw = driver.find_element(By.XPATH, no_of_activities_heading)\n",
    "        no_of_mentions_raw = driver.find_element(By.XPATH, no_of_mentions_heading)\n",
    "        avg_like_raw = driver.find_element(By.XPATH, avg_like_heading)\n",
    "        avg_reply_raw = driver.find_element(By.XPATH, avg_reply_heading)\n",
    "        avg_retweet_raw = driver.find_element(By.XPATH, avg_retweet_heading)\n",
    "        avg_quote_raw = driver.find_element(By.XPATH, avg_quote_heading)\n",
    "        dataset += [project_raw.text, meta_score_raw.text, follower_change_raw.text, no_of_activities_raw.text, no_of_mentions_raw.text, \n",
    "              avg_like_raw.text, avg_reply_raw.text, avg_retweet_raw.text, avg_quote_raw.text]\n",
    "        index += 1\n",
    "    except:\n",
    "        break        \n",
    "\n",
    "driver.quit()\n",
    "        \n",
    "print(dataset)"
   ]
  },
  {
   "cell_type": "code",
   "execution_count": null,
   "id": "4f6fc930",
   "metadata": {},
   "outputs": [],
   "source": []
  },
  {
   "cell_type": "code",
   "execution_count": null,
   "id": "4dd6bcc4",
   "metadata": {},
   "outputs": [],
   "source": []
  }
 ],
 "metadata": {
  "kernelspec": {
   "display_name": "Python 3 (ipykernel)",
   "language": "python",
   "name": "python3"
  },
  "language_info": {
   "codemirror_mode": {
    "name": "ipython",
    "version": 3
   },
   "file_extension": ".py",
   "mimetype": "text/x-python",
   "name": "python",
   "nbconvert_exporter": "python",
   "pygments_lexer": "ipython3",
   "version": "3.8.8"
  }
 },
 "nbformat": 4,
 "nbformat_minor": 5
}
